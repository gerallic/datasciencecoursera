{
 "cells": [
  {
   "cell_type": "markdown",
   "id": "d5bf4de2",
   "metadata": {},
   "source": [
    "# This is Python Tutorial "
   ]
  },
  {
   "cell_type": "code",
   "execution_count": 3,
   "id": "d2a6cbfd",
   "metadata": {},
   "outputs": [
    {
     "name": "stdout",
     "output_type": "stream",
     "text": [
      "Data Analysis\n"
     ]
    }
   ],
   "source": [
    "print(\"Data Analysis\")"
   ]
  },
  {
   "cell_type": "raw",
   "id": "b365bdf9",
   "metadata": {},
   "source": [
    "We are heading to the thing thing"
   ]
  },
  {
   "cell_type": "code",
   "execution_count": 4,
   "id": "569b4d14",
   "metadata": {},
   "outputs": [],
   "source": [
    " a = 45"
   ]
  },
  {
   "cell_type": "code",
   "execution_count": 5,
   "id": "404de4f4",
   "metadata": {},
   "outputs": [
    {
     "name": "stdout",
     "output_type": "stream",
     "text": [
      "<class 'int'>\n"
     ]
    }
   ],
   "source": [
    "print(type(a))"
   ]
  },
  {
   "cell_type": "code",
   "execution_count": 6,
   "id": "1129bdc0",
   "metadata": {},
   "outputs": [
    {
     "name": "stdout",
     "output_type": "stream",
     "text": [
      "Variable   Type    Data/Info\n",
      "----------------------------\n",
      "a          int     45\n"
     ]
    }
   ],
   "source": [
    "%whos"
   ]
  },
  {
   "cell_type": "code",
   "execution_count": null,
   "id": "1ebd997c",
   "metadata": {},
   "outputs": [],
   "source": []
  }
 ],
 "metadata": {
  "kernelspec": {
   "display_name": "Python 3 (ipykernel)",
   "language": "python",
   "name": "python3"
  },
  "language_info": {
   "codemirror_mode": {
    "name": "ipython",
    "version": 3
   },
   "file_extension": ".py",
   "mimetype": "text/x-python",
   "name": "python",
   "nbconvert_exporter": "python",
   "pygments_lexer": "ipython3",
   "version": "3.9.12"
  }
 },
 "nbformat": 4,
 "nbformat_minor": 5
}
